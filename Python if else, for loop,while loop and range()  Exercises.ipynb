{
 "cells": [
  {
   "cell_type": "code",
   "execution_count": null,
   "id": "b9087009",
   "metadata": {},
   "outputs": [],
   "source": [
    "# Exercise 1: Print the sum of the current number and the previous number Write a program to iterate the first\n",
    "#  10 numbers and in each iteration, print the sum of the current and previous number.\n",
    "#  Expected result: 0,1,3,5,7,9,11,13,15,17"
   ]
  },
  {
   "cell_type": "code",
   "execution_count": null,
   "id": "8807976e",
   "metadata": {},
   "outputs": [],
   "source": [
    "# Excercise 2: Write a python program to search a given number from a list"
   ]
  },
  {
   "cell_type": "code",
   "execution_count": null,
   "id": "9f0cfbc9",
   "metadata": {},
   "outputs": [],
   "source": [
    "# Exercise 24: Check Palindrome Number Write a program to check if the given number is a palindrome\n",
    "#  number"
   ]
  },
  {
   "cell_type": "code",
   "execution_count": null,
   "id": "34b1b4ca",
   "metadata": {},
   "outputs": [],
   "source": [
    "# # Exercise 25: Create a new list from a two list using the following condition Given a two list of numbers, write\n",
    "#  a program to create a new list such that the new list should contain odd numbers from the first list and even\n",
    "#  numbers from the second list"
   ]
  },
  {
   "cell_type": "code",
   "execution_count": null,
   "id": "2983b126",
   "metadata": {},
   "outputs": [],
   "source": [
    "# # Exercise 26: Calculate income tax for the given income by adhering to the below rules first 10k--> 0% second\n",
    "#  10 --> 10% remaining-->20%\n",
    "#  Expected Output:\n",
    "#  For example, suppose the taxable income is 45000 the income tax payable is\n",
    "#  100000% + 1000010% + 25000*20% = $6000"
   ]
  },
  {
   "cell_type": "code",
   "execution_count": null,
   "id": "78e7fd0a",
   "metadata": {},
   "outputs": [],
   "source": [
    "# Exercise 27: Print multiplication table form 1 to 1"
   ]
  },
  {
   "cell_type": "code",
   "execution_count": null,
   "id": "658c2bfa",
   "metadata": {},
   "outputs": [],
   "source": [
    "# Excercise 28: Print all the armstrong numbers in the range of 100 to 1000"
   ]
  },
  {
   "cell_type": "code",
   "execution_count": null,
   "id": "9748c872",
   "metadata": {},
   "outputs": [],
   "source": [
    "# # Excercise 29: The current population of a town is 10000. The population of the town is increasing at the rate\n",
    "#  of 10% per year. You have to write a program to find out the population at the end of each of the last 10\n",
    "#  years. For eg current population is 10000 so the output should be like this:\n",
    "#  #10th year - 10000\n",
    "#  #9th year - 9000\n",
    "#  #8th year - 8100 and so on"
   ]
  },
  {
   "cell_type": "code",
   "execution_count": null,
   "id": "1a2e89c5",
   "metadata": {},
   "outputs": [],
   "source": [
    "# Excercise 30: Write a program to print all the unique combinations of two digits from 1 to 4 for ex (1,2),\n",
    " (2,3)....."
   ]
  },
  {
   "cell_type": "code",
   "execution_count": null,
   "id": "e8d33f3f",
   "metadata": {},
   "outputs": [],
   "source": [
    "# Excercise 31:Write a program to print whether a given number is prime number or not"
   ]
  },
  {
   "cell_type": "code",
   "execution_count": null,
   "id": "e6d42acc",
   "metadata": {},
   "outputs": [],
   "source": [
    "#  Excercise 33: User will provide 2 numbers you have to find the by LCM of those 2 numbers\n"
   ]
  },
  {
   "cell_type": "code",
   "execution_count": null,
   "id": "cef8ea64",
   "metadata": {},
   "outputs": [],
   "source": [
    "# # excercise 34: Write a program that take a user input of three angles and will find out whether it can form a\n",
    "#  triangle or not"
   ]
  },
  {
   "cell_type": "code",
   "execution_count": null,
   "id": "a878c010",
   "metadata": {},
   "outputs": [],
   "source": [
    "# # excercise 35:Write a program that will determine weather when the value of temperature and humidity is\n",
    "#  provided by the user.\n",
    "#  TEMPERATURE(C)    \n",
    "#  >= 30        \n",
    "#  >= 30        \n",
    "#  <30          \n",
    "#  <30          \n",
    "#   HUMIDITY(%)    \n",
    "#   >=90            \n",
    "#   < 90            \n",
    "#   >= 90          \n",
    "#   WEATHER\n",
    "#  Hot and Humid\n",
    "#   <90            \n",
    "#  Hot\n",
    "#   Cool and Humid\n",
    "#   Cool"
   ]
  }
 ],
 "metadata": {
  "kernelspec": {
   "display_name": "Python 3 (ipykernel)",
   "language": "python",
   "name": "python3"
  },
  "language_info": {
   "codemirror_mode": {
    "name": "ipython",
    "version": 3
   },
   "file_extension": ".py",
   "mimetype": "text/x-python",
   "name": "python",
   "nbconvert_exporter": "python",
   "pygments_lexer": "ipython3",
   "version": "3.11.4"
  }
 },
 "nbformat": 4,
 "nbformat_minor": 5
}
