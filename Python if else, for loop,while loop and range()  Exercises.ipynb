{
 "cells": [
  {
   "cell_type": "code",
   "execution_count": null,
   "id": "b9087009",
   "metadata": {},
   "outputs": [],
   "source": [
    "# Exercise 1: Print the sum of the current number and the previous number Write a program to iterate the first\n",
    "#  10 numbers and in each iteration, print the sum of the current and previous number.\n",
    "#  Expected result: 0,1,3,5,7,9,11,13,15,17"
   ]
  },
  {
   "cell_type": "code",
   "execution_count": null,
   "id": "8807976e",
   "metadata": {},
   "outputs": [],
   "source": [
    "# Excercise 2: Write a python program to search a given number from a list"
   ]
  },
  {
   "cell_type": "code",
   "execution_count": null,
   "id": "9f0cfbc9",
   "metadata": {},
   "outputs": [],
   "source": [
    "# Exercise 24: Check Palindrome Number Write a program to check if the given number is a palindrome\n",
    "#  number"
   ]
  },
  {
   "cell_type": "code",
   "execution_count": null,
   "id": "34b1b4ca",
   "metadata": {},
   "outputs": [],
   "source": [
    "# # Exercise 25: Create a new list from a two list using the following condition Given a two list of numbers, write\n",
    "#  a program to create a new list such that the new list should contain odd numbers from the first list and even\n",
    "#  numbers from the second list"
   ]
  },
  {
   "cell_type": "code",
   "execution_count": null,
   "id": "2983b126",
   "metadata": {},
   "outputs": [],
   "source": [
    "# # Exercise 26: Calculate income tax for the given income by adhering to the below rules first 10k--> 0% second\n",
    "#  10 --> 10% remaining-->20%\n",
    "#  Expected Output:\n",
    "#  For example, suppose the taxable income is 45000 the income tax payable is\n",
    "#  100000% + 1000010% + 25000*20% = $6000"
   ]
  },
  {
   "cell_type": "code",
   "execution_count": null,
   "id": "78e7fd0a",
   "metadata": {},
   "outputs": [],
   "source": [
    "# Exercise 27: Print multiplication table form 1 to 1"
   ]
  },
  {
   "cell_type": "code",
   "execution_count": null,
   "id": "658c2bfa",
   "metadata": {},
   "outputs": [],
   "source": [
    "# Excercise 28: Print all the armstrong numbers in the range of 100 to 1000"
   ]
  },
  {
   "cell_type": "code",
   "execution_count": null,
   "id": "9748c872",
   "metadata": {},
   "outputs": [],
   "source": [
    "# # Excercise 29: The current population of a town is 10000. The population of the town is increasing at the rate\n",
    "#  of 10% per year. You have to write a program to find out the population at the end of each of the last 10\n",
    "#  years. For eg current population is 10000 so the output should be like this:\n",
    "#  #10th year - 10000\n",
    "#  #9th year - 9000\n",
    "#  #8th year - 8100 and so on"
   ]
  },
  {
   "cell_type": "code",
   "execution_count": null,
   "id": "1a2e89c5",
   "metadata": {},
   "outputs": [],
   "source": [
    "# Excercise 30: Write a program to print all the unique combinations of two digits from 1 to 4 for ex (1,2),\n",
    " (2,3)....."
   ]
  },
  {
   "cell_type": "code",
   "execution_count": null,
   "id": "e8d33f3f",
   "metadata": {},
   "outputs": [],
   "source": [
    "# Excercise 31:Write a program to print whether a given number is prime number or not"
   ]
  },
  {
   "cell_type": "code",
   "execution_count": null,
   "id": "e6d42acc",
   "metadata": {},
   "outputs": [],
   "source": [
    "#  Excercise 33: User will provide 2 numbers you have to find the by LCM of those 2 numbers\n"
   ]
  },
  {
   "cell_type": "code",
   "execution_count": null,
   "id": "cef8ea64",
   "metadata": {},
   "outputs": [],
   "source": [
    "# # excercise 34: Write a program that take a user input of three angles and will find out whether it can form a\n",
    "#  triangle or not"
   ]
  },
  {
   "cell_type": "code",
   "execution_count": null,
   "id": "a878c010",
   "metadata": {},
   "outputs": [],
   "source": [
    "# # excercise 35:Write a program that will determine weather when the value of temperature and humidity is\n",
    "#  provided by the user.\n",
    "#  TEMPERATURE(C)    \n",
    "#  >= 30        \n",
    "#  >= 30        \n",
    "#  <30          \n",
    "#  <30          \n",
    "#   HUMIDITY(%)    \n",
    "#   >=90            \n",
    "#   < 90            \n",
    "#   >= 90          \n",
    "#   WEATHER\n",
    "#  Hot and Humid\n",
    "#   <90            \n",
    "#  Hot\n",
    "#   Cool and Humid\n",
    "#   Cool"
   ]
  },
  {
   "cell_type": "code",
   "execution_count": null,
   "id": "35f29841",
   "metadata": {},
   "outputs": [],
   "source": [
    "# excercise 36:Write a program that will take user input of cost price and selling price and determines whether\n",
    "#  its a loss or a profit"
   ]
  },
  {
   "cell_type": "code",
   "execution_count": null,
   "id": "78fd6120",
   "metadata": {},
   "outputs": [],
   "source": [
    "# excercise 37-Write a program that will give you the in hand salary after deduction of HRA(10%),\n",
    "#  DA(5%),\n",
    "#  PF(3%),\n",
    "#  and tax\n",
    "#  (if salary is between 5-10 lakh–10%),\n",
    "#  (11-20lakh–20%),\n",
    "#  (20< _ – 30%)\n",
    "#  (0-1lakh print k)"
   ]
  },
  {
   "cell_type": "code",
   "execution_count": null,
   "id": "df17fd0d",
   "metadata": {},
   "outputs": [],
   "source": [
    "# excercise 38: Write a menu driven program - 1.cm to ft\n",
    "#  2.kl to miles\n",
    "#  3.usd to inr\n",
    "#  4.exit"
   ]
  },
  {
   "cell_type": "code",
   "execution_count": null,
   "id": "86785667",
   "metadata": {},
   "outputs": [],
   "source": [
    "# Excercise 39:Write a program that will tell the number of dogs and chicken are there when the user will\n",
    "#  provide the value of total heads and legs"
   ]
  },
  {
   "cell_type": "code",
   "execution_count": null,
   "id": "90ebba4c",
   "metadata": {},
   "outputs": [],
   "source": [
    "# excercise 40: Write a program to find the sum of first n numbers, where n will be provided by the user. Eg if\n",
    "#  the user provides n=10 the output should be 55."
   ]
  },
  {
   "cell_type": "code",
   "execution_count": null,
   "id": "c5946f61",
   "metadata": {},
   "outputs": [],
   "source": [
    "#  Excercise 41: Write a program that can multiply 2 numbers provided by the user without using the * operator\n"
   ]
  },
  {
   "cell_type": "code",
   "execution_count": null,
   "id": "8bca50b9",
   "metadata": {},
   "outputs": [],
   "source": [
    "# Excercise 42:Write a program that can find the factorial of a given number provided by the user."
   ]
  },
  {
   "cell_type": "code",
   "execution_count": null,
   "id": "b947b9dc",
   "metadata": {},
   "outputs": [],
   "source": [
    "# excercise 43:print following pattern"
   ]
  },
  {
   "cell_type": "code",
   "execution_count": null,
   "id": "6111efdb",
   "metadata": {},
   "outputs": [],
   "source": [
    "# Exercise 44: Print First 10 natural numbers using while loop"
   ]
  },
  {
   "cell_type": "code",
   "execution_count": null,
   "id": "8e757118",
   "metadata": {},
   "outputs": [],
   "source": [
    "# # Exercise 45: Print the following pattern\n",
    "# 1 \n",
    "# 2 3 \n",
    "# 4 5 6 \n",
    "# 7 8 9 10 \n",
    "# 11 12 13 14 15 "
   ]
  },
  {
   "cell_type": "code",
   "execution_count": null,
   "id": "98366598",
   "metadata": {},
   "outputs": [],
   "source": [
    "# 1 \n",
    "# 1 2 \n",
    "# 1 2 3 \n",
    "# 1 2 3 4 \n",
    "# 1 2 3 4 5 "
   ]
  },
  {
   "cell_type": "code",
   "execution_count": null,
   "id": "45cf2bd4",
   "metadata": {},
   "outputs": [],
   "source": [
    "# enter the number: 5\n",
    "#  1 \n",
    "# 1 1 \n",
    "# 1 2 1 \n",
    "# 1 3 3 1 \n",
    "# 1 4 6 4 1"
   ]
  },
  {
   "cell_type": "code",
   "execution_count": null,
   "id": "1c603f03",
   "metadata": {},
   "outputs": [],
   "source": [
    "# Exercise 48: Calculate the sum of all numbers from 1 to a given number\n",
    "#  Write a program to accept a number from a user and calculate the sum of all numbers from 1 to a given\n",
    "#  number\n",
    "#  For example, if the user entered 10 the output should be 55 (1+2+3+4+5+6+7+8+9+10)"
   ]
  },
  {
   "cell_type": "code",
   "execution_count": null,
   "id": "f2d514d0",
   "metadata": {},
   "outputs": [],
   "source": [
    "# Exercise 49: Write a program to print multiplication table of a given number For example, num = 2 so the\n",
    "#  output should be"
   ]
  },
  {
   "cell_type": "code",
   "execution_count": null,
   "id": "19d9ea6e",
   "metadata": {},
   "outputs": [],
   "source": [
    "# Exercise 50: Display numbers from a list using loop Write a program to display only those numbers from a list\n",
    "#  that satisfy the following conditions\n",
    "#  The number must be divisible by five\n",
    "#  If the number is greater than 150, then skip it and move to the next number\n",
    "#  If the number is greater than 500, then stop the loop"
   ]
  },
  {
   "cell_type": "code",
   "execution_count": null,
   "id": "a3ce3e15",
   "metadata": {},
   "outputs": [],
   "source": [
    "# Exercise 51: Count the total number of digits in a number Write a program to count the total number of digits\n",
    "#  in a number using a while loop.\n",
    "#  For example, the number is 75869, so the output should be 5"
   ]
  },
  {
   "cell_type": "code",
   "execution_count": null,
   "id": "1ea23fd7",
   "metadata": {},
   "outputs": [],
   "source": [
    "# # Exercise 52: Print the following pattern Write a program to use for loop to print the following reverse number\n",
    "# #  pattern\n",
    "# 5 4 3 2 1 \n",
    "# 4 3 2 1 \n",
    "# 3 2 1 \n",
    "# 2 1 \n",
    "# 1"
   ]
  },
  {
   "cell_type": "code",
   "execution_count": null,
   "id": "a813dea5",
   "metadata": {},
   "outputs": [],
   "source": [
    "# Exercise 53: Print list in reverse order using a loop\n"
   ]
  },
  {
   "cell_type": "code",
   "execution_count": null,
   "id": "e0c2c3fa",
   "metadata": {},
   "outputs": [],
   "source": [
    "# exercise 54: Display numbers from -10 to -1 using for loop"
   ]
  },
  {
   "cell_type": "code",
   "execution_count": null,
   "id": "6572725e",
   "metadata": {},
   "outputs": [],
   "source": [
    "# exercise 55: Use else block to display a message “Done” after successful execution of for loop\n",
    "#  For example, the following loop will execute without any error."
   ]
  },
  {
   "cell_type": "code",
   "execution_count": null,
   "id": "16d311fc",
   "metadata": {},
   "outputs": [],
   "source": [
    "# Exercise 56: Write a program to display all prime numbers within a range\n",
    "#  Note: A Prime Number is a number which only divisible by one and number itself.but 1 is not prime number\n"
   ]
  },
  {
   "cell_type": "code",
   "execution_count": null,
   "id": "aedf29a8",
   "metadata": {},
   "outputs": [],
   "source": [
    "# Exercise 57: Display Fibonacci series up to 10 terms The Fibonacci Sequence is a series of numbers. The\n",
    "#  next number is found by adding up the two numbers before it. The first two numbers are 0 and 1.\n",
    "#  For example, 0, 1, 1, 2, 3, 5, 8, 13, 21. The next number in this series above is 13+21 = 34."
   ]
  },
  {
   "cell_type": "code",
   "execution_count": null,
   "id": "81ee8418",
   "metadata": {},
   "outputs": [],
   "source": [
    "# Exercise 58: Find the factorial of a given number Write a program to use the loop to find the factorial of a\n",
    "#  given number.\n",
    "#  The factorial (symbol: !) means to multiply all whole numbers from the chosen number down to 1."
   ]
  },
  {
   "cell_type": "code",
   "execution_count": null,
   "id": "4df64fcc",
   "metadata": {},
   "outputs": [],
   "source": [
    "# Exercise 59: Reverse a given integer number Given:\n",
    "#  76542\n",
    "#  Expected output:\n",
    "#  24567"
   ]
  },
  {
   "cell_type": "code",
   "execution_count": null,
   "id": "64bf3db2",
   "metadata": {},
   "outputs": [],
   "source": [
    "# Exercise 60: Use a loop to display elements from a given list present at odd index positions\n",
    "#  my_list = [10, 20, 30, 40, 50, 60, 70, 80, 90, 100]"
   ]
  },
  {
   "cell_type": "code",
   "execution_count": null,
   "id": "60489d30",
   "metadata": {},
   "outputs": [],
   "source": [
    "# Exercise 61: Calculate the cube of all numbers from 1 to a given number Write a program to rint the cube of\n",
    "#  all numbers from 1 to a given number\n",
    "#  Given:\n",
    "#  input_number = 6"
   ]
  },
  {
   "cell_type": "code",
   "execution_count": null,
   "id": "9a524b94",
   "metadata": {},
   "outputs": [],
   "source": [
    "# Exercise 62: Find the sum of the series upto n terms Write a program to calculate the sum of series up to n\n",
    "#  term. For example, if n =5 the series will become 2 + 22 + 222 + 2222 + 22222 = 24690"
   ]
  },
  {
   "cell_type": "code",
   "execution_count": null,
   "id": "d0dd2b3c",
   "metadata": {},
   "outputs": [],
   "source": []
  },
  {
   "cell_type": "code",
   "execution_count": null,
   "id": "b1effa0e",
   "metadata": {},
   "outputs": [],
   "source": []
  },
  {
   "cell_type": "code",
   "execution_count": null,
   "id": "4505547a",
   "metadata": {},
   "outputs": [],
   "source": []
  },
  {
   "cell_type": "code",
   "execution_count": null,
   "id": "d6f175bd",
   "metadata": {},
   "outputs": [],
   "source": []
  },
  {
   "cell_type": "code",
   "execution_count": null,
   "id": "df5f299b",
   "metadata": {},
   "outputs": [],
   "source": []
  },
  {
   "cell_type": "code",
   "execution_count": null,
   "id": "fa6ab79f",
   "metadata": {},
   "outputs": [],
   "source": []
  },
  {
   "cell_type": "code",
   "execution_count": null,
   "id": "26de9a8a",
   "metadata": {},
   "outputs": [],
   "source": []
  }
 ],
 "metadata": {
  "kernelspec": {
   "display_name": "Python 3 (ipykernel)",
   "language": "python",
   "name": "python3"
  },
  "language_info": {
   "codemirror_mode": {
    "name": "ipython",
    "version": 3
   },
   "file_extension": ".py",
   "mimetype": "text/x-python",
   "name": "python",
   "nbconvert_exporter": "python",
   "pygments_lexer": "ipython3",
   "version": "3.11.4"
  }
 },
 "nbformat": 4,
 "nbformat_minor": 5
}
