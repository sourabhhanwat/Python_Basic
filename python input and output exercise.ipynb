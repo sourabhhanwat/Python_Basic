{
 "cells": [
  {
   "cell_type": "code",
   "execution_count": 1,
   "id": "406e49b6",
   "metadata": {},
   "outputs": [
    {
     "name": "stdout",
     "output_type": "stream",
     "text": [
      "enter number:1\n",
      "1\n"
     ]
    }
   ],
   "source": [
    "# Exercise 1: Accept numbers from a user\n",
    "print(int(input(\"enter number:\")))"
   ]
  },
  {
   "cell_type": "code",
   "execution_count": 4,
   "id": "210c60c7",
   "metadata": {},
   "outputs": [
    {
     "name": "stdout",
     "output_type": "stream",
     "text": [
      "Name**is**James\n"
     ]
    }
   ],
   "source": [
    "# Exercise 2: Display three string “Name”, “Is”, “James” as “Name ** Is ** James”\n",
    "print(\"Name\", \"is\", \"James\", sep = '**')"
   ]
  },
  {
   "cell_type": "code",
   "execution_count": 6,
   "id": "19ccaef7",
   "metadata": {},
   "outputs": [
    {
     "name": "stdout",
     "output_type": "stream",
     "text": [
      "0o12\n"
     ]
    }
   ],
   "source": [
    "# Exercise 3: Convert Decimal number to octal using print() output formatting\n",
    "print(oct(int(10.23)))"
   ]
  },
  {
   "cell_type": "code",
   "execution_count": 7,
   "id": "a81a6c82",
   "metadata": {},
   "outputs": [
    {
     "name": "stdout",
     "output_type": "stream",
     "text": [
      "10.23\n"
     ]
    }
   ],
   "source": [
    "#  Exercise 4: Display float number with 2 decimal places using print()\n",
    "print(float(round(10.23232,2)))"
   ]
  },
  {
   "cell_type": "code",
   "execution_count": 8,
   "id": "0355967c",
   "metadata": {},
   "outputs": [
    {
     "name": "stdout",
     "output_type": "stream",
     "text": [
      "0o12\n"
     ]
    }
   ],
   "source": [
    "# Exercise 5: Convert Decimal number to octal using print() output formatting\n",
    "print(oct(round(10.2321)))"
   ]
  },
  {
   "cell_type": "code",
   "execution_count": 11,
   "id": "6cf66171",
   "metadata": {},
   "outputs": [
    {
     "name": "stdout",
     "output_type": "stream",
     "text": [
      "enter num:45\n",
      "1\n",
      "3\n",
      "5\n",
      "9\n",
      "15\n",
      "45\n"
     ]
    }
   ],
   "source": [
    "# Excercise 6:Print all factors of a given number provided by the user.\n",
    "x = int(input(\"enter num:\"))\n",
    "for i in range(1,x+1):\n",
    "    if x%i == 0 :\n",
    "        print(i)"
   ]
  },
  {
   "cell_type": "code",
   "execution_count": 9,
   "id": "1a2e7f21",
   "metadata": {},
   "outputs": [
    {
     "name": "stdout",
     "output_type": "stream",
     "text": [
      "enter number: 1\n",
      "enter number: 2\n",
      "enter number: 3\n",
      "enter number: 4\n",
      "enter number: 5\n",
      "['1', '2', '3', '4', '5']\n"
     ]
    }
   ],
   "source": [
    "# Exercise 7: Accept a list of 5 float numbers as an input from the user\n",
    "list_ = []\n",
    "for i in range(5):\n",
    "    x = input(\"enter number: \")\n",
    "    list_.append(x)\n",
    "print(list_)"
   ]
  },
  {
   "cell_type": "code",
   "execution_count": 16,
   "id": "1e6103f7",
   "metadata": {},
   "outputs": [
    {
     "name": "stdout",
     "output_type": "stream",
     "text": [
      "What is Lorem Ipsum?\n",
      "\n",
      "Lorem Ipsum is simply dummy text of the printing and typesetting industry. Lorem Ipsum has been the industry's standard dummy text ever since the 1500s, when an unknown printer took a galley of type and scrambled it to make a type specimen book. It has survived not only five centuries, but also the leap into electronic typesetting, remaining essentially unchanged. It was popularised in the 1960s with the release of Letraset sheets containing Lorem Ipsum passages, and more recently with desktop publishing software like Aldus PageMaker including versions of Lorem Ipsum.\n",
      "\n",
      "\n",
      "\n",
      "Why do we use it?\n",
      "\n",
      "It is a long established fact that a reader will be distracted by the readable content of a page when looking at its layout. The point of using Lorem Ipsum is that it has a more-or-less normal distribution of letters, as opposed to using 'Content here, content here', making it look like readable English. Many desktop publishing packages and web page editors now use Lorem Ipsum as their default model text, and a search for 'lorem ipsum' will uncover many web sites still in their infancy. Various versions have evolved over the years, sometimes by accident, sometimes on purpose (injected humour and the like).\n",
      "\n",
      "\n",
      "\n",
      "Where does it come from?\n",
      "\n",
      "Contrary to popular belief, Lorem Ipsum is not simply random text. It has roots in a piece of classical Latin literature from 45 BC, making it over 2000 years old. Richard McClintock, a Latin professor at Hampden-Sydney College in Virginia, looked up one of the more obscure Latin words, consectetur, from a Lorem Ipsum passage, and going through the cites of the word in classical literature, discovered the undoubtable source. Lorem Ipsum comes from sections 1.10.32 and 1.10.33 of \"de Finibus Bonorum et Malorum\" (The Extremes of Good and Evil) by Cicero, written in 45 BC. This book is a treatise on the theory of ethics, very popular during the Renaissance. The first line of Lorem Ipsum, \"Lorem ipsum dolor sit amet..\", comes from a line in section 1.10.32.\n",
      "\n",
      "\n",
      "\n",
      "The standard chunk of Lorem Ipsum used since the 1500s is reproduced below for those interested. Sections 1.10.32 and 1.10.33 from \"de Finibus Bonorum et Malorum\" by Cicero are also reproduced in their exact original form, accompanied by English versions from the 1914 translation by H. Rackham.\n",
      "\n",
      "\n",
      "\n",
      "Where can I get some?\n",
      "\n",
      "There are many variations of passages of Lorem Ipsum available, but the majority have suffered alteration in some form, by injected humour, or randomised words which don't look even slightly believable. If you are going to use a passage of Lorem Ipsum, you need to be sure there isn't anything embarrassing hidden in the middle of text. All the Lorem Ipsum generators on the Internet tend to repeat predefined chunks as necessary, making this the first true generator on the Internet. It uses a dictionary of over 200 Latin words, combined with a handful of model sentence structures, to generate Lorem Ipsum which looks reasonable. The generated Lorem Ipsum is therefore always free from repetition, injected humour, or non-characteristic words etc.\n",
      "\n",
      "\n",
      "\n",
      "5\n",
      "\n",
      "\tparagraphs\n",
      "\n",
      "\twords\n",
      "\n",
      "\tbytes\n",
      "\n",
      "\tlists\n",
      "\n",
      "\tStart with 'Lorem\n",
      "\n",
      "ipsum dolor sit amet...'\n",
      "\n"
     ]
    }
   ],
   "source": [
    "# Exercise 8: Write all content of a given file into a new file by skipping line number 5\n",
    "with open(\"new.txt\", \"r\") as f:\n",
    "    s = f.readlines()\n",
    "    for i in range(len(s)):\n",
    "        if i != 5:\n",
    "            print(s[i])\n",
    "        "
   ]
  },
  {
   "cell_type": "code",
   "execution_count": 18,
   "id": "4d5b4947",
   "metadata": {},
   "outputs": [
    {
     "name": "stdout",
     "output_type": "stream",
     "text": [
      "enter 3 numbers:11 12 13 14 15\n",
      "['11', '12', '13']\n"
     ]
    }
   ],
   "source": [
    "#  Exercise 9: Accept any three string from one input() call\n",
    "x = input(\"enter 3 numbers:\").split()\n",
    "print(x[:3])"
   ]
  },
  {
   "cell_type": "code",
   "execution_count": 19,
   "id": "0f2b5dba",
   "metadata": {},
   "outputs": [
    {
     "name": "stdout",
     "output_type": "stream",
     "text": [
      "i have 1200 dollars so i can buy 4 football for 450 dollars\n"
     ]
    }
   ],
   "source": [
    "# Exercise 10: Format variables using a string.format() method. Write a program to use string.format() method\n",
    "#  to format the following three variables as per the expected output\n",
    "totalmoney=1200\n",
    "quantity=4\n",
    "price=450\n",
    "print(\"i have {} dollars so i can buy {} football for {} dollars\".format(totalmoney,quantity,price))"
   ]
  },
  {
   "cell_type": "code",
   "execution_count": 24,
   "id": "2cac7093",
   "metadata": {},
   "outputs": [
    {
     "name": "stdout",
     "output_type": "stream",
     "text": [
      "empty\n"
     ]
    }
   ],
   "source": [
    "# Exercise 11: Check file is empty or not Write a program to check if the given file is empty or not\n",
    "with open(\"new_line.txt\", \"r\") as f:\n",
    "    lines = f.readlines()\n",
    "    if lines:\n",
    "        print(lines)\n",
    "    else:\n",
    "        print(\"empty\")"
   ]
  },
  {
   "cell_type": "code",
   "execution_count": 30,
   "id": "5c8dbecb",
   "metadata": {},
   "outputs": [
    {
     "name": "stdout",
     "output_type": "stream",
     "text": [
      "[\"Lorem Ipsum is simply dummy text of the printing and typesetting industry. Lorem Ipsum has been the industry's standard dummy text ever since the 1500s, when an unknown printer took a galley of type and scrambled it to make a type specimen book. It has survived not only five centuries, but also the leap into electronic typesetting, remaining essentially unchanged. It was popularised in the 1960s with the release of Letraset sheets containing Lorem Ipsum passages, and more recently with desktop publishing software like Aldus PageMaker including versions of Lorem Ipsum.\\n\", '\\n']\n"
     ]
    }
   ],
   "source": [
    "# Exercise 12: Read line number 4 from the following file\n",
    "with open(\"new.txt\", \"r\") as f:\n",
    "    lines = f.readlines()\n",
    "    print(lines[4])"
   ]
  },
  {
   "cell_type": "code",
   "execution_count": 32,
   "id": "f31e879c",
   "metadata": {},
   "outputs": [
    {
     "name": "stdout",
     "output_type": "stream",
     "text": [
      "1200.0\n"
     ]
    }
   ],
   "source": [
    "# excercise 13: Write a program to find the simple interest when the value of principle,rate of interest and time\n",
    "#  period is given\n",
    "p, r, t = 1000, 10, 2\n",
    "print(p + (p*r*t/100))"
   ]
  },
  {
   "cell_type": "code",
   "execution_count": null,
   "id": "8e8dd941",
   "metadata": {},
   "outputs": [],
   "source": []
  }
 ],
 "metadata": {
  "kernelspec": {
   "display_name": "Python 3 (ipykernel)",
   "language": "python",
   "name": "python3"
  },
  "language_info": {
   "codemirror_mode": {
    "name": "ipython",
    "version": 3
   },
   "file_extension": ".py",
   "mimetype": "text/x-python",
   "name": "python",
   "nbconvert_exporter": "python",
   "pygments_lexer": "ipython3",
   "version": "3.11.4"
  }
 },
 "nbformat": 4,
 "nbformat_minor": 5
}
