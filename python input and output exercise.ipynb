{
 "cells": [
  {
   "cell_type": "code",
   "execution_count": null,
   "id": "63d1648e",
   "metadata": {},
   "outputs": [],
   "source": [
    "# Exercise 1: Accept numbers from a user"
   ]
  },
  {
   "cell_type": "code",
   "execution_count": null,
   "id": "7f2f21ac",
   "metadata": {},
   "outputs": [],
   "source": [
    "# Exercise 2: Display three string “Name”, “Is”, “James” as “Name ** Is ** James”"
   ]
  },
  {
   "cell_type": "code",
   "execution_count": null,
   "id": "89e30bd6",
   "metadata": {},
   "outputs": [],
   "source": [
    "# Exercise 3: Convert Decimal number to octal using print() output formatting"
   ]
  },
  {
   "cell_type": "code",
   "execution_count": null,
   "id": "17b11fb1",
   "metadata": {},
   "outputs": [],
   "source": [
    "#  Exercise 4: Display float number with 2 decimal places using print()\n"
   ]
  },
  {
   "cell_type": "code",
   "execution_count": null,
   "id": "07a2d5f3",
   "metadata": {},
   "outputs": [],
   "source": [
    "# Exercise 5: Convert Decimal number to octal using print() output formatting"
   ]
  },
  {
   "cell_type": "code",
   "execution_count": null,
   "id": "8518d6dc",
   "metadata": {},
   "outputs": [],
   "source": [
    "# Excercise 6:Print all factors of a given number provided by the user."
   ]
  },
  {
   "cell_type": "code",
   "execution_count": null,
   "id": "7ae85be4",
   "metadata": {},
   "outputs": [],
   "source": [
    "# Exercise 7: Accept a list of 5 float numbers as an input from the user"
   ]
  },
  {
   "cell_type": "code",
   "execution_count": null,
   "id": "a813c45f",
   "metadata": {},
   "outputs": [],
   "source": [
    "# Exercise 8: Write all content of a given file into a new file by skipping line number 5"
   ]
  },
  {
   "cell_type": "code",
   "execution_count": null,
   "id": "76369c02",
   "metadata": {},
   "outputs": [],
   "source": [
    "#  Exercise 9: Accept any three string from one input() call\n"
   ]
  },
  {
   "cell_type": "code",
   "execution_count": null,
   "id": "3e20b9f7",
   "metadata": {},
   "outputs": [],
   "source": [
    "# Exercise 10: Format variables using a string.format() method. Write a program to use string.format() method\n",
    "#  to format the following three variables as per the expected output\n"
   ]
  },
  {
   "cell_type": "code",
   "execution_count": null,
   "id": "874b89bc",
   "metadata": {},
   "outputs": [],
   "source": [
    "# Exercise 11: Check file is empty or not Write a program to check if the given file is empty or not"
   ]
  },
  {
   "cell_type": "code",
   "execution_count": null,
   "id": "74d98144",
   "metadata": {},
   "outputs": [],
   "source": [
    "# Exercise 12: Read line number 4 from the following file"
   ]
  },
  {
   "cell_type": "code",
   "execution_count": null,
   "id": "b99e3e2b",
   "metadata": {},
   "outputs": [],
   "source": [
    "# excercise 13: Write a program to find the simple interest when the value of principle,rate of interest and time\n",
    "#  period is given"
   ]
  }
 ],
 "metadata": {
  "kernelspec": {
   "display_name": "Python 3 (ipykernel)",
   "language": "python",
   "name": "python3"
  },
  "language_info": {
   "codemirror_mode": {
    "name": "ipython",
    "version": 3
   },
   "file_extension": ".py",
   "mimetype": "text/x-python",
   "name": "python",
   "nbconvert_exporter": "python",
   "pygments_lexer": "ipython3",
   "version": "3.11.4"
  }
 },
 "nbformat": 4,
 "nbformat_minor": 5
}
