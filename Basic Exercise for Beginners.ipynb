{
 "cells": [
  {
   "cell_type": "code",
   "execution_count": 5,
   "id": "cdf6ff56",
   "metadata": {},
   "outputs": [
    {
     "name": "stdout",
     "output_type": "stream",
     "text": [
      "Enter first number: 5\n",
      "Enter first number: 3\n",
      "word swap: \n",
      " Input_1:  3 \n",
      " Input_2:  5\n",
      "word swap: \n",
      " Input_1:  5 \n",
      " Input_2:  3\n"
     ]
    }
   ],
   "source": [
    "#  Excercise 1: Swap the number without using third varible\n",
    "\n",
    "input_1 = int(input(\"Enter first number: \"))\n",
    "input_2 = int(input(\"Enter first number: \"))\n",
    "\n",
    "#  method 1\n",
    "input_1 = input_1 + input_2\n",
    "input_2 = input_1 - input_2\n",
    "input_1 = input_1 - input_2\n",
    "\n",
    "print(\"word swap: \\n Input_1: \", input_1,\"\\n Input_2: \",input_2)\n",
    "\n",
    "# --------------------------------------------------------------------\n",
    "\n",
    "input_1 = int(input(\"Enter first number: \"))\n",
    "input_2 = int(input(\"Enter first number: \"))\n",
    "\n",
    "#  method 2\n",
    "input_1, input_2 = input_2, input_1\n",
    "print(\"word swap: \\n Input_1: \", input_1,\"\\n Input_2: \",input_2)\n"
   ]
  },
  {
   "cell_type": "code",
   "execution_count": 17,
   "id": "258229cb",
   "metadata": {},
   "outputs": [
    {
     "name": "stdout",
     "output_type": "stream",
     "text": [
      "Enter first number: 54321\n",
      "12345\n",
      "\n",
      "\n",
      "12345\n",
      "\n",
      "\n",
      "12345"
     ]
    }
   ],
   "source": [
    "#  Exercise 2: Write a Program to extract each digit from an integer in the reverse order.\n",
    "\n",
    "value = str(input(\"Enter first number: \"))\n",
    "\n",
    "# method 1\n",
    "for i in value[::-1]:\n",
    "    print(i, end = \"\")\n",
    "\n",
    "print(\"\\n\\n\")\n",
    "\n",
    "# method 2\n",
    "for i in reversed(value):\n",
    "    print(i, end = \"\")\n",
    "    \n",
    "print(\"\\n\\n\")\n",
    "\n",
    "# method 3\n",
    "c = len(value) - 1\n",
    "while c > -1:\n",
    "    print(value[c], end=\"\")\n",
    "    c = c-1"
   ]
  },
  {
   "cell_type": "code",
   "execution_count": null,
   "id": "b80c07e6",
   "metadata": {},
   "outputs": [],
   "source": [
    "#  Exercise 3: Write a program that will give you the sum of 3 digits\n"
   ]
  },
  {
   "cell_type": "code",
   "execution_count": null,
   "id": "7b64e0ae",
   "metadata": {},
   "outputs": [],
   "source": [
    "#  Exercise 4: Write a program that will reverse a four digit number.Also it checks whether the reverse is true.\n"
   ]
  },
  {
   "cell_type": "code",
   "execution_count": null,
   "id": "018b125e",
   "metadata": {},
   "outputs": [],
   "source": [
    "#  Exercise 5: Write a program to find the euclidean distance between two coordinates.\n"
   ]
  },
  {
   "cell_type": "code",
   "execution_count": null,
   "id": "de811727",
   "metadata": {},
   "outputs": [],
   "source": [
    "#  Exercise 5: Write a program that will tell whether the given number is divisible by 3 & 6.\n"
   ]
  },
  {
   "cell_type": "code",
   "execution_count": null,
   "id": "3f5e8782",
   "metadata": {},
   "outputs": [],
   "source": [
    "#  Exercise 6: Write a program that will take three digits from the user and add the square of each digit.\n"
   ]
  },
  {
   "cell_type": "code",
   "execution_count": null,
   "id": "7c6e321c",
   "metadata": {},
   "outputs": [],
   "source": [
    "#  Exercise 7: Write a program that will check whether the number is armstrong number or not.\n"
   ]
  },
  {
   "cell_type": "code",
   "execution_count": null,
   "id": "726160b6",
   "metadata": {},
   "outputs": [],
   "source": [
    "# Exercise 8: Write a program that will take user input of (4 digits number) and check whether the number is\n",
    "#  narcissist number or not."
   ]
  }
 ],
 "metadata": {
  "kernelspec": {
   "display_name": "Python 3 (ipykernel)",
   "language": "python",
   "name": "python3"
  },
  "language_info": {
   "codemirror_mode": {
    "name": "ipython",
    "version": 3
   },
   "file_extension": ".py",
   "mimetype": "text/x-python",
   "name": "python",
   "nbconvert_exporter": "python",
   "pygments_lexer": "ipython3",
   "version": "3.11.4"
  }
 },
 "nbformat": 4,
 "nbformat_minor": 5
}
