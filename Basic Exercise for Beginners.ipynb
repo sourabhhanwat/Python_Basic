{
 "cells": [
  {
   "cell_type": "code",
   "execution_count": 5,
   "id": "7fe83fb6",
   "metadata": {},
   "outputs": [
    {
     "name": "stdout",
     "output_type": "stream",
     "text": [
      "Enter first number: 5\n",
      "Enter first number: 3\n",
      "word swap: \n",
      " Input_1:  3 \n",
      " Input_2:  5\n",
      "word swap: \n",
      " Input_1:  5 \n",
      " Input_2:  3\n"
     ]
    }
   ],
   "source": [
    "#  Excercise 1: Swap the number without using third varible\n",
    "\n",
    "input_1 = int(input(\"Enter first number: \"))\n",
    "input_2 = int(input(\"Enter first number: \"))\n",
    "\n",
    "#  method 1\n",
    "input_1 = input_1 + input_2\n",
    "input_2 = input_1 - input_2\n",
    "input_1 = input_1 - input_2\n",
    "\n",
    "print(\"word swap: \\n Input_1: \", input_1,\"\\n Input_2: \",input_2)\n",
    "\n",
    "# --------------------------------------------------------------------\n",
    "\n",
    "input_1 = int(input(\"Enter first number: \"))\n",
    "input_2 = int(input(\"Enter first number: \"))\n",
    "\n",
    "#  method 2\n",
    "input_1, input_2 = input_2, input_1\n",
    "print(\"word swap: \\n Input_1: \", input_1,\"\\n Input_2: \",input_2)\n"
   ]
  },
  {
   "cell_type": "code",
   "execution_count": 17,
   "id": "9db7c361",
   "metadata": {},
   "outputs": [
    {
     "name": "stdout",
     "output_type": "stream",
     "text": [
      "Enter first number: 54321\n",
      "12345\n",
      "\n",
      "\n",
      "12345\n",
      "\n",
      "\n",
      "12345"
     ]
    }
   ],
   "source": [
    "#  Exercise 2: Write a Program to extract each digit from an integer in the reverse order.\n",
    "\n",
    "value = str(input(\"Enter first number: \"))\n",
    "\n",
    "# method 1\n",
    "for i in value[::-1]:\n",
    "    print(i, end = \"\")\n",
    "\n",
    "print(\"\\n\\n\")\n",
    "\n",
    "# method 2\n",
    "for i in reversed(value):\n",
    "    print(i, end = \"\")\n",
    "    \n",
    "print(\"\\n\\n\")\n",
    "\n",
    "# method 3\n",
    "c = len(value) - 1\n",
    "while c > -1:\n",
    "    print(value[c], end=\"\")\n",
    "    c = c-1"
   ]
  },
  {
   "cell_type": "code",
   "execution_count": 32,
   "id": "ee33a487",
   "metadata": {},
   "outputs": [
    {
     "name": "stdout",
     "output_type": "stream",
     "text": [
      "Enter 3 number: 5 4 3\n",
      "12\n",
      "12\n"
     ]
    }
   ],
   "source": [
    "#  Exercise 3: Write a program that will give you the sum of 3 digits\n",
    "value = input(\"Enter 3 number: \").split()\n",
    "\n",
    "# method 1\n",
    "total = 0\n",
    "for i in value:\n",
    "    total = total + int(i)\n",
    "print(total)\n",
    "\n",
    "\n",
    "# method 2\n",
    "print(sum([int(i) for i in value]))\n"
   ]
  },
  {
   "cell_type": "code",
   "execution_count": 43,
   "id": "44e87aec",
   "metadata": {},
   "outputs": [
    {
     "name": "stdout",
     "output_type": "stream",
     "text": [
      "Enter 4 number: 5432\n",
      "False\n"
     ]
    }
   ],
   "source": [
    "# Exercise 4: Write a program that will reverse a four digit number.Also it checks whether the reverse is true.\n",
    "\n",
    "value = input(\"Enter 4 number: \")\n",
    "\n",
    "# Method 1\n",
    "new = \"\".join([i for i in reversed(value)])\n",
    "print(\"True\" if new == value else \"False\")\n"
   ]
  },
  {
   "cell_type": "code",
   "execution_count": 46,
   "id": "162d5681",
   "metadata": {
    "scrolled": true
   },
   "outputs": [
    {
     "name": "stdout",
     "output_type": "stream",
     "text": [
      "x1: 4\n",
      "y1: 5\n",
      "x2: 6\n",
      "y2: 8\n",
      "3.61\n"
     ]
    }
   ],
   "source": [
    "#  Exercise 5: Write a program to find the euclidean distance between two coordinates.\n",
    "import math\n",
    "\n",
    "x1 = float(input(\"x1: \"))\n",
    "y1 = float(input(\"y1: \"))\n",
    "x2 = float(input(\"x2: \"))\n",
    "y2 = float(input(\"y2: \"))\n",
    "\n",
    "x = [x1, y1]\n",
    "y = [x2, y2]\n",
    "\n",
    "print(round(math.dist(x,y),2))"
   ]
  },
  {
   "cell_type": "code",
   "execution_count": 50,
   "id": "52878cc1",
   "metadata": {},
   "outputs": [
    {
     "name": "stdout",
     "output_type": "stream",
     "text": [
      "enter: 18\n",
      "yes\n"
     ]
    }
   ],
   "source": [
    "#  Exercise 5: Write a program that will tell whether the given number is divisible by 3 & 6.\n",
    "\n",
    "value = int(input(\"enter: \"))\n",
    "print(\"yes\" if value%3 == 0 and value%6 == 0 else \"No\")"
   ]
  },
  {
   "cell_type": "code",
   "execution_count": 51,
   "id": "0407403e",
   "metadata": {},
   "outputs": [
    {
     "name": "stdout",
     "output_type": "stream",
     "text": [
      "Enter: 345\n",
      "50\n"
     ]
    }
   ],
   "source": [
    "#  Exercise 6: Write a program that will take three digits from the user and add the square of each digit.\n",
    "value = input(\"Enter: \")\n",
    "print(sum([int(i)*int(i) for i in value]))"
   ]
  },
  {
   "cell_type": "code",
   "execution_count": 53,
   "id": "22ac596d",
   "metadata": {},
   "outputs": [
    {
     "name": "stdout",
     "output_type": "stream",
     "text": [
      "Enter: 121\n",
      "No\n"
     ]
    }
   ],
   "source": [
    "#  Exercise 7: Write a program that will check whether the number is armstrong number or not.\n",
    "value = input(\"Enter: \")\n",
    "new = (sum([int(i)*int(i)*int(i) for i in value]))\n",
    "\n",
    "print( \"yes\" if int(value) == int(new) else \"No\")"
   ]
  },
  {
   "cell_type": "code",
   "execution_count": 54,
   "id": "aff31a8a",
   "metadata": {},
   "outputs": [
    {
     "name": "stdout",
     "output_type": "stream",
     "text": [
      "Enter: 1234\n",
      "No\n"
     ]
    }
   ],
   "source": [
    "# Exercise 8: Write a program that will take user input of (4 digits number) and check whether the number is\n",
    "#  narcissist number or not.\n",
    "value = input(\"Enter: \")\n",
    "new = (sum([int(i)*int(i)*int(i)*int(i) for i in value]))\n",
    "\n",
    "print( \"yes\" if int(value) == int(new) else \"No\")"
   ]
  },
  {
   "cell_type": "code",
   "execution_count": null,
   "id": "09b0409d",
   "metadata": {},
   "outputs": [],
   "source": []
  }
 ],
 "metadata": {
  "kernelspec": {
   "display_name": "Python 3 (ipykernel)",
   "language": "python",
   "name": "python3"
  },
  "language_info": {
   "codemirror_mode": {
    "name": "ipython",
    "version": 3
   },
   "file_extension": ".py",
   "mimetype": "text/x-python",
   "name": "python",
   "nbconvert_exporter": "python",
   "pygments_lexer": "ipython3",
   "version": "3.11.4"
  }
 },
 "nbformat": 4,
 "nbformat_minor": 5
}
